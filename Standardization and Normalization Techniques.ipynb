{
 "cells": [
  {
   "cell_type": "code",
   "execution_count": 1,
   "id": "90489e77",
   "metadata": {},
   "outputs": [],
   "source": [
    "import pandas as pd\n",
    "import numpy as np\n",
    "import matplotlib.pyplot as plt\n",
    "import seaborn as sns"
   ]
  },
  {
   "cell_type": "markdown",
   "id": "fa782fc9",
   "metadata": {},
   "source": [
    "# 1. Standardization"
   ]
  },
  {
   "cell_type": "code",
   "execution_count": 2,
   "id": "8731d9fb",
   "metadata": {},
   "outputs": [],
   "source": [
    "# We try to bring all the variables or features to a similar scale.\n",
    "## Centering the variables at zero\n",
    "# Z = (X-Xmean)/std"
   ]
  },
  {
   "cell_type": "code",
   "execution_count": 86,
   "id": "3cbd76d7",
   "metadata": {},
   "outputs": [
    {
     "data": {
      "text/html": [
       "<div>\n",
       "<style scoped>\n",
       "    .dataframe tbody tr th:only-of-type {\n",
       "        vertical-align: middle;\n",
       "    }\n",
       "\n",
       "    .dataframe tbody tr th {\n",
       "        vertical-align: top;\n",
       "    }\n",
       "\n",
       "    .dataframe thead th {\n",
       "        text-align: right;\n",
       "    }\n",
       "</style>\n",
       "<table border=\"1\" class=\"dataframe\">\n",
       "  <thead>\n",
       "    <tr style=\"text-align: right;\">\n",
       "      <th></th>\n",
       "      <th>Survived</th>\n",
       "      <th>Pclass</th>\n",
       "      <th>Age</th>\n",
       "      <th>Fare</th>\n",
       "    </tr>\n",
       "  </thead>\n",
       "  <tbody>\n",
       "    <tr>\n",
       "      <th>0</th>\n",
       "      <td>0</td>\n",
       "      <td>3</td>\n",
       "      <td>22.0</td>\n",
       "      <td>7.2500</td>\n",
       "    </tr>\n",
       "    <tr>\n",
       "      <th>1</th>\n",
       "      <td>1</td>\n",
       "      <td>1</td>\n",
       "      <td>38.0</td>\n",
       "      <td>71.2833</td>\n",
       "    </tr>\n",
       "    <tr>\n",
       "      <th>2</th>\n",
       "      <td>1</td>\n",
       "      <td>3</td>\n",
       "      <td>26.0</td>\n",
       "      <td>7.9250</td>\n",
       "    </tr>\n",
       "    <tr>\n",
       "      <th>3</th>\n",
       "      <td>1</td>\n",
       "      <td>1</td>\n",
       "      <td>35.0</td>\n",
       "      <td>53.1000</td>\n",
       "    </tr>\n",
       "    <tr>\n",
       "      <th>4</th>\n",
       "      <td>0</td>\n",
       "      <td>3</td>\n",
       "      <td>35.0</td>\n",
       "      <td>8.0500</td>\n",
       "    </tr>\n",
       "  </tbody>\n",
       "</table>\n",
       "</div>"
      ],
      "text/plain": [
       "   Survived  Pclass   Age     Fare\n",
       "0         0       3  22.0   7.2500\n",
       "1         1       1  38.0  71.2833\n",
       "2         1       3  26.0   7.9250\n",
       "3         1       1  35.0  53.1000\n",
       "4         0       3  35.0   8.0500"
      ]
     },
     "execution_count": 86,
     "metadata": {},
     "output_type": "execute_result"
    }
   ],
   "source": [
    "df = pd.read_csv('train1.csv', usecols = ['Pclass','Age','Fare','Survived'])\n",
    "df.head()"
   ]
  },
  {
   "cell_type": "code",
   "execution_count": 4,
   "id": "ba7fa7c0",
   "metadata": {},
   "outputs": [
    {
     "data": {
      "text/plain": [
       "Survived      0\n",
       "Pclass        0\n",
       "Age         177\n",
       "Fare          0\n",
       "dtype: int64"
      ]
     },
     "execution_count": 4,
     "metadata": {},
     "output_type": "execute_result"
    }
   ],
   "source": [
    "df.isnull().sum()"
   ]
  },
  {
   "cell_type": "code",
   "execution_count": 5,
   "id": "16c61be8",
   "metadata": {},
   "outputs": [
    {
     "data": {
      "text/html": [
       "<div>\n",
       "<style scoped>\n",
       "    .dataframe tbody tr th:only-of-type {\n",
       "        vertical-align: middle;\n",
       "    }\n",
       "\n",
       "    .dataframe tbody tr th {\n",
       "        vertical-align: top;\n",
       "    }\n",
       "\n",
       "    .dataframe thead th {\n",
       "        text-align: right;\n",
       "    }\n",
       "</style>\n",
       "<table border=\"1\" class=\"dataframe\">\n",
       "  <thead>\n",
       "    <tr style=\"text-align: right;\">\n",
       "      <th></th>\n",
       "      <th>Survived</th>\n",
       "      <th>Pclass</th>\n",
       "      <th>Age</th>\n",
       "      <th>Fare</th>\n",
       "    </tr>\n",
       "  </thead>\n",
       "  <tbody>\n",
       "    <tr>\n",
       "      <th>0</th>\n",
       "      <td>0</td>\n",
       "      <td>3</td>\n",
       "      <td>22.0</td>\n",
       "      <td>7.2500</td>\n",
       "    </tr>\n",
       "    <tr>\n",
       "      <th>1</th>\n",
       "      <td>1</td>\n",
       "      <td>1</td>\n",
       "      <td>38.0</td>\n",
       "      <td>71.2833</td>\n",
       "    </tr>\n",
       "    <tr>\n",
       "      <th>2</th>\n",
       "      <td>1</td>\n",
       "      <td>3</td>\n",
       "      <td>26.0</td>\n",
       "      <td>7.9250</td>\n",
       "    </tr>\n",
       "    <tr>\n",
       "      <th>3</th>\n",
       "      <td>1</td>\n",
       "      <td>1</td>\n",
       "      <td>35.0</td>\n",
       "      <td>53.1000</td>\n",
       "    </tr>\n",
       "    <tr>\n",
       "      <th>4</th>\n",
       "      <td>0</td>\n",
       "      <td>3</td>\n",
       "      <td>35.0</td>\n",
       "      <td>8.0500</td>\n",
       "    </tr>\n",
       "  </tbody>\n",
       "</table>\n",
       "</div>"
      ],
      "text/plain": [
       "   Survived  Pclass   Age     Fare\n",
       "0         0       3  22.0   7.2500\n",
       "1         1       1  38.0  71.2833\n",
       "2         1       3  26.0   7.9250\n",
       "3         1       1  35.0  53.1000\n",
       "4         0       3  35.0   8.0500"
      ]
     },
     "execution_count": 5,
     "metadata": {},
     "output_type": "execute_result"
    }
   ],
   "source": [
    "df['Age'].fillna(df.Age.median(), inplace = True)\n",
    "df.head()"
   ]
  },
  {
   "cell_type": "code",
   "execution_count": 6,
   "id": "43b6ad40",
   "metadata": {},
   "outputs": [
    {
     "data": {
      "text/plain": [
       "Survived    0\n",
       "Pclass      0\n",
       "Age         0\n",
       "Fare        0\n",
       "dtype: int64"
      ]
     },
     "execution_count": 6,
     "metadata": {},
     "output_type": "execute_result"
    }
   ],
   "source": [
    "df.isnull().sum()"
   ]
  },
  {
   "cell_type": "code",
   "execution_count": 7,
   "id": "5790f53a",
   "metadata": {},
   "outputs": [],
   "source": [
    "####Standardization : We use the StandardScaler from sklearn\n",
    "from sklearn.preprocessing import StandardScaler"
   ]
  },
  {
   "cell_type": "code",
   "execution_count": 8,
   "id": "71e22c8f",
   "metadata": {},
   "outputs": [],
   "source": [
    "scaler=StandardScaler()"
   ]
  },
  {
   "cell_type": "code",
   "execution_count": 9,
   "id": "40aa35b4",
   "metadata": {},
   "outputs": [],
   "source": [
    "df_scaled=scaler.fit_transform(df)"
   ]
  },
  {
   "cell_type": "code",
   "execution_count": 15,
   "id": "51ac78a8",
   "metadata": {},
   "outputs": [],
   "source": [
    "df_scaled1 = pd.DataFrame(df_scaled)"
   ]
  },
  {
   "cell_type": "code",
   "execution_count": 16,
   "id": "46ce64e6",
   "metadata": {},
   "outputs": [
    {
     "data": {
      "text/html": [
       "<div>\n",
       "<style scoped>\n",
       "    .dataframe tbody tr th:only-of-type {\n",
       "        vertical-align: middle;\n",
       "    }\n",
       "\n",
       "    .dataframe tbody tr th {\n",
       "        vertical-align: top;\n",
       "    }\n",
       "\n",
       "    .dataframe thead th {\n",
       "        text-align: right;\n",
       "    }\n",
       "</style>\n",
       "<table border=\"1\" class=\"dataframe\">\n",
       "  <thead>\n",
       "    <tr style=\"text-align: right;\">\n",
       "      <th></th>\n",
       "      <th>0</th>\n",
       "      <th>1</th>\n",
       "      <th>2</th>\n",
       "      <th>3</th>\n",
       "    </tr>\n",
       "  </thead>\n",
       "  <tbody>\n",
       "    <tr>\n",
       "      <th>0</th>\n",
       "      <td>-0.789272</td>\n",
       "      <td>0.827377</td>\n",
       "      <td>-0.565736</td>\n",
       "      <td>-0.502445</td>\n",
       "    </tr>\n",
       "    <tr>\n",
       "      <th>1</th>\n",
       "      <td>1.266990</td>\n",
       "      <td>-1.566107</td>\n",
       "      <td>0.663861</td>\n",
       "      <td>0.786845</td>\n",
       "    </tr>\n",
       "    <tr>\n",
       "      <th>2</th>\n",
       "      <td>1.266990</td>\n",
       "      <td>0.827377</td>\n",
       "      <td>-0.258337</td>\n",
       "      <td>-0.488854</td>\n",
       "    </tr>\n",
       "    <tr>\n",
       "      <th>3</th>\n",
       "      <td>1.266990</td>\n",
       "      <td>-1.566107</td>\n",
       "      <td>0.433312</td>\n",
       "      <td>0.420730</td>\n",
       "    </tr>\n",
       "    <tr>\n",
       "      <th>4</th>\n",
       "      <td>-0.789272</td>\n",
       "      <td>0.827377</td>\n",
       "      <td>0.433312</td>\n",
       "      <td>-0.486337</td>\n",
       "    </tr>\n",
       "  </tbody>\n",
       "</table>\n",
       "</div>"
      ],
      "text/plain": [
       "          0         1         2         3\n",
       "0 -0.789272  0.827377 -0.565736 -0.502445\n",
       "1  1.266990 -1.566107  0.663861  0.786845\n",
       "2  1.266990  0.827377 -0.258337 -0.488854\n",
       "3  1.266990 -1.566107  0.433312  0.420730\n",
       "4 -0.789272  0.827377  0.433312 -0.486337"
      ]
     },
     "execution_count": 16,
     "metadata": {},
     "output_type": "execute_result"
    }
   ],
   "source": [
    "df_scaled1.head()"
   ]
  },
  {
   "cell_type": "code",
   "execution_count": 19,
   "id": "66b82f3d",
   "metadata": {},
   "outputs": [
    {
     "data": {
      "text/plain": [
       "(array([216.,   0.,   0.,   0.,   0.,   0.,   0.,   0.,   0.,   0.,   0.,\n",
       "          0.,   0.,   0.,   0., 184.,   0.,   0.,   0.,   0.,   0.,   0.,\n",
       "          0.,   0.,   0.,   0.,   0.,   0.,   0., 491.]),\n",
       " array([-1.56610693, -1.48632412, -1.40654131, -1.32675851, -1.2469757 ,\n",
       "        -1.1671929 , -1.08741009, -1.00762729, -0.92784448, -0.84806167,\n",
       "        -0.76827887, -0.68849606, -0.60871326, -0.52893045, -0.44914765,\n",
       "        -0.36936484, -0.28958204, -0.20979923, -0.13001642, -0.05023362,\n",
       "         0.02954919,  0.10933199,  0.1891148 ,  0.2688976 ,  0.34868041,\n",
       "         0.42846322,  0.50824602,  0.58802883,  0.66781163,  0.74759444,\n",
       "         0.82737724]),\n",
       " <BarContainer object of 30 artists>)"
      ]
     },
     "execution_count": 19,
     "metadata": {},
     "output_type": "execute_result"
    },
    {
     "data": {
      "image/png": "[encoded data removed]",
      "text/plain": [
       "<Figure size 432x288 with 1 Axes>"
      ]
     },
     "metadata": {
      "needs_background": "light"
     },
     "output_type": "display_data"
    }
   ],
   "source": [
    "plt.hist(df_scaled[:,1], bins=30)"
   ]
  },
  {
   "cell_type": "code",
   "execution_count": 21,
   "id": "15fb1130",
   "metadata": {},
   "outputs": [
    {
     "data": {
      "text/plain": [
       "(array([ 30.,  14.,  10.,  14.,   3.,  29.,  39.,  65.,  73.,  42., 242.,\n",
       "         62.,  33.,  47.,  38.,  21.,  28.,  21.,  16.,  14.,  15.,   7.,\n",
       "          9.,   8.,   4.,   0.,   5.,   1.,   0.,   1.]),\n",
       " array([-2.22415608, -2.02029906, -1.81644204, -1.61258503, -1.40872801,\n",
       "        -1.20487099, -1.00101397, -0.79715696, -0.59329994, -0.38944292,\n",
       "        -0.1855859 ,  0.01827111,  0.22212813,  0.42598515,  0.62984217,\n",
       "         0.83369919,  1.0375562 ,  1.24141322,  1.44527024,  1.64912726,\n",
       "         1.85298427,  2.05684129,  2.26069831,  2.46455533,  2.66841235,\n",
       "         2.87226936,  3.07612638,  3.2799834 ,  3.48384042,  3.68769743,\n",
       "         3.89155445]),\n",
       " <BarContainer object of 30 artists>)"
      ]
     },
     "execution_count": 21,
     "metadata": {},
     "output_type": "execute_result"
    },
    {
     "data": {
      "image/png": "[encoded data removed]",
      "text/plain": [
       "<Figure size 432x288 with 1 Axes>"
      ]
     },
     "metadata": {
      "needs_background": "light"
     },
     "output_type": "display_data"
    }
   ],
   "source": [
    "plt.hist(df_scaled[:,2], bins = 30)"
   ]
  },
  {
   "cell_type": "code",
   "execution_count": 22,
   "id": "5382b1ba",
   "metadata": {},
   "outputs": [
    {
     "data": {
      "text/plain": [
       "(array([496., 191.,  45.,  45.,  48.,  13.,  11.,  11.,   9.,   2.,   0.,\n",
       "          0.,   5.,   4.,   2.,   6.,   0.,   0.,   0.,   0.,   0.,   0.,\n",
       "          0.,   0.,   0.,   0.,   0.,   0.,   0.,   3.]),\n",
       " array([-0.64842165, -0.30456871,  0.03928423,  0.38313716,  0.7269901 ,\n",
       "         1.07084304,  1.41469598,  1.75854892,  2.10240186,  2.4462548 ,\n",
       "         2.79010774,  3.13396068,  3.47781362,  3.82166656,  4.1655195 ,\n",
       "         4.50937244,  4.85322538,  5.19707831,  5.54093125,  5.88478419,\n",
       "         6.22863713,  6.57249007,  6.91634301,  7.26019595,  7.60404889,\n",
       "         7.94790183,  8.29175477,  8.63560771,  8.97946065,  9.32331359,\n",
       "         9.66716653]),\n",
       " <BarContainer object of 30 artists>)"
      ]
     },
     "execution_count": 22,
     "metadata": {},
     "output_type": "execute_result"
    },
    {
     "data": {
      "image/png": "[encoded data removed]",
      "text/plain": [
       "<Figure size 432x288 with 1 Axes>"
      ]
     },
     "metadata": {
      "needs_background": "light"
     },
     "output_type": "display_data"
    }
   ],
   "source": [
    "plt.hist(df_scaled[:,3], bins = 30)"
   ]
  },
  {
   "cell_type": "code",
   "execution_count": 23,
   "id": "636c6bb7",
   "metadata": {},
   "outputs": [
    {
     "data": {
      "text/plain": [
       "(array([496., 191.,  45.,  45.,  48.,  13.,  11.,  11.,   9.,   2.,   0.,\n",
       "          0.,   5.,   4.,   2.,   6.,   0.,   0.,   0.,   0.,   0.,   0.,\n",
       "          0.,   0.,   0.,   0.,   0.,   0.,   0.,   3.]),\n",
       " array([  0.     ,  17.07764,  34.15528,  51.23292,  68.31056,  85.3882 ,\n",
       "        102.46584, 119.54348, 136.62112, 153.69876, 170.7764 , 187.85404,\n",
       "        204.93168, 222.00932, 239.08696, 256.1646 , 273.24224, 290.31988,\n",
       "        307.39752, 324.47516, 341.5528 , 358.63044, 375.70808, 392.78572,\n",
       "        409.86336, 426.941  , 444.01864, 461.09628, 478.17392, 495.25156,\n",
       "        512.3292 ]),\n",
       " <BarContainer object of 30 artists>)"
      ]
     },
     "execution_count": 23,
     "metadata": {},
     "output_type": "execute_result"
    },
    {
     "data": {
      "image/png": "[encoded data removed]",
      "text/plain": [
       "<Figure size 432x288 with 1 Axes>"
      ]
     },
     "metadata": {
      "needs_background": "light"
     },
     "output_type": "display_data"
    }
   ],
   "source": [
    "plt.hist(df['Fare'], bins = 30)"
   ]
  },
  {
   "cell_type": "markdown",
   "id": "7e5b80d2",
   "metadata": {},
   "source": [
    "# 2. Min Max Scaling -- Widely used in CNN\n",
    "## Transforms values b/w 0 to 1"
   ]
  },
  {
   "cell_type": "code",
   "execution_count": 25,
   "id": "820f7473",
   "metadata": {},
   "outputs": [],
   "source": [
    "#X_Scaled = (X-Xmin)/ (X-Xmax)"
   ]
  },
  {
   "cell_type": "code",
   "execution_count": 27,
   "id": "ab27fe68",
   "metadata": {},
   "outputs": [],
   "source": [
    "from sklearn.preprocessing import MinMaxScaler"
   ]
  },
  {
   "cell_type": "code",
   "execution_count": 28,
   "id": "35a14b83",
   "metadata": {},
   "outputs": [],
   "source": [
    "min_max = MinMaxScaler()"
   ]
  },
  {
   "cell_type": "code",
   "execution_count": 34,
   "id": "6e530757",
   "metadata": {},
   "outputs": [],
   "source": [
    "df_min_max = pd.DataFrame(min_max.fit_transform(df), columns = df.columns)"
   ]
  },
  {
   "cell_type": "code",
   "execution_count": 35,
   "id": "92ec25b3",
   "metadata": {},
   "outputs": [
    {
     "data": {
      "text/html": [
       "<div>\n",
       "<style scoped>\n",
       "    .dataframe tbody tr th:only-of-type {\n",
       "        vertical-align: middle;\n",
       "    }\n",
       "\n",
       "    .dataframe tbody tr th {\n",
       "        vertical-align: top;\n",
       "    }\n",
       "\n",
       "    .dataframe thead th {\n",
       "        text-align: right;\n",
       "    }\n",
       "</style>\n",
       "<table border=\"1\" class=\"dataframe\">\n",
       "  <thead>\n",
       "    <tr style=\"text-align: right;\">\n",
       "      <th></th>\n",
       "      <th>Survived</th>\n",
       "      <th>Pclass</th>\n",
       "      <th>Age</th>\n",
       "      <th>Fare</th>\n",
       "    </tr>\n",
       "  </thead>\n",
       "  <tbody>\n",
       "    <tr>\n",
       "      <th>0</th>\n",
       "      <td>0.0</td>\n",
       "      <td>1.0</td>\n",
       "      <td>0.271174</td>\n",
       "      <td>0.014151</td>\n",
       "    </tr>\n",
       "    <tr>\n",
       "      <th>1</th>\n",
       "      <td>1.0</td>\n",
       "      <td>0.0</td>\n",
       "      <td>0.472229</td>\n",
       "      <td>0.139136</td>\n",
       "    </tr>\n",
       "    <tr>\n",
       "      <th>2</th>\n",
       "      <td>1.0</td>\n",
       "      <td>1.0</td>\n",
       "      <td>0.321438</td>\n",
       "      <td>0.015469</td>\n",
       "    </tr>\n",
       "    <tr>\n",
       "      <th>3</th>\n",
       "      <td>1.0</td>\n",
       "      <td>0.0</td>\n",
       "      <td>0.434531</td>\n",
       "      <td>0.103644</td>\n",
       "    </tr>\n",
       "    <tr>\n",
       "      <th>4</th>\n",
       "      <td>0.0</td>\n",
       "      <td>1.0</td>\n",
       "      <td>0.434531</td>\n",
       "      <td>0.015713</td>\n",
       "    </tr>\n",
       "  </tbody>\n",
       "</table>\n",
       "</div>"
      ],
      "text/plain": [
       "   Survived  Pclass       Age      Fare\n",
       "0       0.0     1.0  0.271174  0.014151\n",
       "1       1.0     0.0  0.472229  0.139136\n",
       "2       1.0     1.0  0.321438  0.015469\n",
       "3       1.0     0.0  0.434531  0.103644\n",
       "4       0.0     1.0  0.434531  0.015713"
      ]
     },
     "execution_count": 35,
     "metadata": {},
     "output_type": "execute_result"
    }
   ],
   "source": [
    "df_min_max.head()"
   ]
  },
  {
   "cell_type": "code",
   "execution_count": 36,
   "id": "a162e601",
   "metadata": {},
   "outputs": [
    {
     "data": {
      "text/plain": [
       "(array([ 30.,  14.,  10.,  14.,   3.,  29.,  39.,  65.,  73.,  42., 242.,\n",
       "         62.,  33.,  47.,  38.,  21.,  28.,  21.,  16.,  14.,  15.,   7.,\n",
       "          9.,   8.,   4.,   0.,   5.,   1.,   0.,   1.]),\n",
       " array([0.        , 0.03333333, 0.06666667, 0.1       , 0.13333333,\n",
       "        0.16666667, 0.2       , 0.23333333, 0.26666667, 0.3       ,\n",
       "        0.33333333, 0.36666667, 0.4       , 0.43333333, 0.46666667,\n",
       "        0.5       , 0.53333333, 0.56666667, 0.6       , 0.63333333,\n",
       "        0.66666667, 0.7       , 0.73333333, 0.76666667, 0.8       ,\n",
       "        0.83333333, 0.86666667, 0.9       , 0.93333333, 0.96666667,\n",
       "        1.        ]),\n",
       " <BarContainer object of 30 artists>)"
      ]
     },
     "execution_count": 36,
     "metadata": {},
     "output_type": "execute_result"
    },
    {
     "data": {
      "image/png": "[encoded data removed]",
      "text/plain": [
       "<Figure size 432x288 with 1 Axes>"
      ]
     },
     "metadata": {
      "needs_background": "light"
     },
     "output_type": "display_data"
    }
   ],
   "source": [
    "plt.hist(df_min_max['Age'], bins = 30)"
   ]
  },
  {
   "cell_type": "code",
   "execution_count": 37,
   "id": "5a8d2018",
   "metadata": {},
   "outputs": [
    {
     "data": {
      "text/plain": [
       "(array([496., 191.,  45.,  45.,  48.,  13.,  11.,  11.,   9.,   2.,   0.,\n",
       "          0.,   5.,   4.,   2.,   6.,   0.,   0.,   0.,   0.,   0.,   0.,\n",
       "          0.,   0.,   0.,   0.,   0.,   0.,   0.,   3.]),\n",
       " array([0.        , 0.03333333, 0.06666667, 0.1       , 0.13333333,\n",
       "        0.16666667, 0.2       , 0.23333333, 0.26666667, 0.3       ,\n",
       "        0.33333333, 0.36666667, 0.4       , 0.43333333, 0.46666667,\n",
       "        0.5       , 0.53333333, 0.56666667, 0.6       , 0.63333333,\n",
       "        0.66666667, 0.7       , 0.73333333, 0.76666667, 0.8       ,\n",
       "        0.83333333, 0.86666667, 0.9       , 0.93333333, 0.96666667,\n",
       "        1.        ]),\n",
       " <BarContainer object of 30 artists>)"
      ]
     },
     "execution_count": 37,
     "metadata": {},
     "output_type": "execute_result"
    },
    {
     "data": {
      "image/png": "[encoded data removed]",
      "text/plain": [
       "<Figure size 432x288 with 1 Axes>"
      ]
     },
     "metadata": {
      "needs_background": "light"
     },
     "output_type": "display_data"
    }
   ],
   "source": [
    "plt.hist(df_min_max['Fare'], bins = 30)"
   ]
  },
  {
   "cell_type": "code",
   "execution_count": 38,
   "id": "ceaf3371",
   "metadata": {},
   "outputs": [
    {
     "data": {
      "text/plain": [
       "(array([216.,   0.,   0.,   0.,   0.,   0.,   0.,   0.,   0.,   0.,   0.,\n",
       "          0.,   0.,   0.,   0., 184.,   0.,   0.,   0.,   0.,   0.,   0.,\n",
       "          0.,   0.,   0.,   0.,   0.,   0.,   0., 491.]),\n",
       " array([0.        , 0.03333333, 0.06666667, 0.1       , 0.13333333,\n",
       "        0.16666667, 0.2       , 0.23333333, 0.26666667, 0.3       ,\n",
       "        0.33333333, 0.36666667, 0.4       , 0.43333333, 0.46666667,\n",
       "        0.5       , 0.53333333, 0.56666667, 0.6       , 0.63333333,\n",
       "        0.66666667, 0.7       , 0.73333333, 0.76666667, 0.8       ,\n",
       "        0.83333333, 0.86666667, 0.9       , 0.93333333, 0.96666667,\n",
       "        1.        ]),\n",
       " <BarContainer object of 30 artists>)"
      ]
     },
     "execution_count": 38,
     "metadata": {},
     "output_type": "execute_result"
    },
    {
     "data": {
      "image/png": "[encoded data removed]",
      "text/plain": [
       "<Figure size 432x288 with 1 Axes>"
      ]
     },
     "metadata": {
      "needs_background": "light"
     },
     "output_type": "display_data"
    }
   ],
   "source": [
    "plt.hist(df_min_max['Pclass'], bins = 30)"
   ]
  },
  {
   "cell_type": "markdown",
   "id": "457ee552",
   "metadata": {},
   "source": [
    "# 3. Robust Scaler"
   ]
  },
  {
   "cell_type": "code",
   "execution_count": 40,
   "id": "d1ebbd40",
   "metadata": {},
   "outputs": [
    {
     "data": {
      "text/html": [
       "<div>\n",
       "<style scoped>\n",
       "    .dataframe tbody tr th:only-of-type {\n",
       "        vertical-align: middle;\n",
       "    }\n",
       "\n",
       "    .dataframe tbody tr th {\n",
       "        vertical-align: top;\n",
       "    }\n",
       "\n",
       "    .dataframe thead th {\n",
       "        text-align: right;\n",
       "    }\n",
       "</style>\n",
       "<table border=\"1\" class=\"dataframe\">\n",
       "  <thead>\n",
       "    <tr style=\"text-align: right;\">\n",
       "      <th></th>\n",
       "      <th>Survived</th>\n",
       "      <th>Pclass</th>\n",
       "      <th>Age</th>\n",
       "      <th>Fare</th>\n",
       "    </tr>\n",
       "  </thead>\n",
       "  <tbody>\n",
       "    <tr>\n",
       "      <th>0</th>\n",
       "      <td>0.0</td>\n",
       "      <td>0.0</td>\n",
       "      <td>-0.461538</td>\n",
       "      <td>-0.312011</td>\n",
       "    </tr>\n",
       "    <tr>\n",
       "      <th>1</th>\n",
       "      <td>1.0</td>\n",
       "      <td>-2.0</td>\n",
       "      <td>0.769231</td>\n",
       "      <td>2.461242</td>\n",
       "    </tr>\n",
       "    <tr>\n",
       "      <th>2</th>\n",
       "      <td>1.0</td>\n",
       "      <td>0.0</td>\n",
       "      <td>-0.153846</td>\n",
       "      <td>-0.282777</td>\n",
       "    </tr>\n",
       "    <tr>\n",
       "      <th>3</th>\n",
       "      <td>1.0</td>\n",
       "      <td>-2.0</td>\n",
       "      <td>0.538462</td>\n",
       "      <td>1.673732</td>\n",
       "    </tr>\n",
       "    <tr>\n",
       "      <th>4</th>\n",
       "      <td>0.0</td>\n",
       "      <td>0.0</td>\n",
       "      <td>0.538462</td>\n",
       "      <td>-0.277363</td>\n",
       "    </tr>\n",
       "  </tbody>\n",
       "</table>\n",
       "</div>"
      ],
      "text/plain": [
       "   Survived  Pclass       Age      Fare\n",
       "0       0.0     0.0 -0.461538 -0.312011\n",
       "1       1.0    -2.0  0.769231  2.461242\n",
       "2       1.0     0.0 -0.153846 -0.282777\n",
       "3       1.0    -2.0  0.538462  1.673732\n",
       "4       0.0     0.0  0.538462 -0.277363"
      ]
     },
     "execution_count": 40,
     "metadata": {},
     "output_type": "execute_result"
    }
   ],
   "source": [
    "from sklearn.preprocessing import RobustScaler\n",
    "robust =  RobustScaler()\n",
    "df_scaled3 = pd.DataFrame(robust.fit_transform(df), columns = df.columns)\n",
    "df_scaled3.head()"
   ]
  },
  {
   "cell_type": "code",
   "execution_count": 41,
   "id": "1abae05a",
   "metadata": {},
   "outputs": [
    {
     "data": {
      "text/plain": [
       "(array([ 30.,  14.,  10.,  14.,   3.,  29.,  39.,  65.,  73.,  42., 242.,\n",
       "         62.,  33.,  47.,  38.,  21.,  28.,  21.,  16.,  14.,  15.,   7.,\n",
       "          9.,   8.,   4.,   0.,   5.,   1.,   0.,   1.]),\n",
       " array([-2.12153846, -1.91748718, -1.7134359 , -1.50938462, -1.30533333,\n",
       "        -1.10128205, -0.89723077, -0.69317949, -0.48912821, -0.28507692,\n",
       "        -0.08102564,  0.12302564,  0.32707692,  0.53112821,  0.73517949,\n",
       "         0.93923077,  1.14328205,  1.34733333,  1.55138462,  1.7554359 ,\n",
       "         1.95948718,  2.16353846,  2.36758974,  2.57164103,  2.77569231,\n",
       "         2.97974359,  3.18379487,  3.38784615,  3.59189744,  3.79594872,\n",
       "         4.        ]),\n",
       " <BarContainer object of 30 artists>)"
      ]
     },
     "execution_count": 41,
     "metadata": {},
     "output_type": "execute_result"
    },
    {
     "data": {
      "image/png": "[encoded data removed]",
      "text/plain": [
       "<Figure size 432x288 with 1 Axes>"
      ]
     },
     "metadata": {
      "needs_background": "light"
     },
     "output_type": "display_data"
    }
   ],
   "source": [
    "plt.hist(df_scaled3['Age'], bins = 30)"
   ]
  },
  {
   "cell_type": "code",
   "execution_count": 42,
   "id": "805513e7",
   "metadata": {},
   "outputs": [
    {
     "data": {
      "text/plain": [
       "(array([216.,   0.,   0.,   0.,   0.,   0.,   0.,   0.,   0.,   0.,   0.,\n",
       "          0.,   0.,   0.,   0., 184.,   0.,   0.,   0.,   0.,   0.,   0.,\n",
       "          0.,   0.,   0.,   0.,   0.,   0.,   0., 491.]),\n",
       " array([-2.        , -1.93333333, -1.86666667, -1.8       , -1.73333333,\n",
       "        -1.66666667, -1.6       , -1.53333333, -1.46666667, -1.4       ,\n",
       "        -1.33333333, -1.26666667, -1.2       , -1.13333333, -1.06666667,\n",
       "        -1.        , -0.93333333, -0.86666667, -0.8       , -0.73333333,\n",
       "        -0.66666667, -0.6       , -0.53333333, -0.46666667, -0.4       ,\n",
       "        -0.33333333, -0.26666667, -0.2       , -0.13333333, -0.06666667,\n",
       "         0.        ]),\n",
       " <BarContainer object of 30 artists>)"
      ]
     },
     "execution_count": 42,
     "metadata": {},
     "output_type": "execute_result"
    },
    {
     "data": {
      "image/png": "[encoded data removed]",
      "text/plain": [
       "<Figure size 432x288 with 1 Axes>"
      ]
     },
     "metadata": {
      "needs_background": "light"
     },
     "output_type": "display_data"
    }
   ],
   "source": [
    "plt.hist(df_scaled3['Pclass'], bins = 30)"
   ]
  },
  {
   "cell_type": "code",
   "execution_count": 43,
   "id": "bc8e1f46",
   "metadata": {},
   "outputs": [
    {
     "data": {
      "text/plain": [
       "(array([496., 191.,  45.,  45.,  48.,  13.,  11.,  11.,   9.,   2.,   0.,\n",
       "          0.,   5.,   4.,   2.,   6.,   0.,   0.,   0.,   0.,   0.,   0.,\n",
       "          0.,   0.,   0.,   0.,   0.,   0.,   0.,   3.]),\n",
       " array([-0.62600478,  0.11361998,  0.85324475,  1.59286952,  2.33249428,\n",
       "         3.07211905,  3.81174382,  4.55136858,  5.29099335,  6.03061811,\n",
       "         6.77024288,  7.50986765,  8.24949241,  8.98911718,  9.72874194,\n",
       "        10.46836671, 11.20799148, 11.94761624, 12.68724101, 13.42686578,\n",
       "        14.16649054, 14.90611531, 15.64574007, 16.38536484, 17.12498961,\n",
       "        17.86461437, 18.60423914, 19.3438639 , 20.08348867, 20.82311344,\n",
       "        21.5627382 ]),\n",
       " <BarContainer object of 30 artists>)"
      ]
     },
     "execution_count": 43,
     "metadata": {},
     "output_type": "execute_result"
    },
    {
     "data": {
      "image/png": "[encoded data removed]",
      "text/plain": [
       "<Figure size 432x288 with 1 Axes>"
      ]
     },
     "metadata": {
      "needs_background": "light"
     },
     "output_type": "display_data"
    }
   ],
   "source": [
    "plt.hist(df_scaled3['Fare'], bins = 30)"
   ]
  },
  {
   "cell_type": "markdown",
   "id": "3417e099",
   "metadata": {},
   "source": [
    "# 4. Gaussian Transformation"
   ]
  },
  {
   "cell_type": "raw",
   "id": "66ad6a44",
   "metadata": {},
   "source": [
    "logarithmic transformation\n",
    "reciprocal transformation\n",
    "square root transformation\n",
    "exponential transformation (more general, you can use any exponent)\n",
    "boxcox transformation"
   ]
  },
  {
   "cell_type": "markdown",
   "id": "6a4c83e8",
   "metadata": {},
   "source": [
    "Some ML algorithms like Linear and logistic regression, assume that features are normally distributed."
   ]
  },
  {
   "cell_type": "code",
   "execution_count": 62,
   "id": "999dc28d",
   "metadata": {},
   "outputs": [],
   "source": [
    "df = pd.read_csv('train1.csv', usecols = ['Age', 'Fare', 'Survived'])"
   ]
  },
  {
   "cell_type": "code",
   "execution_count": 63,
   "id": "36e5dde1",
   "metadata": {},
   "outputs": [
    {
     "data": {
      "text/html": [
       "<div>\n",
       "<style scoped>\n",
       "    .dataframe tbody tr th:only-of-type {\n",
       "        vertical-align: middle;\n",
       "    }\n",
       "\n",
       "    .dataframe tbody tr th {\n",
       "        vertical-align: top;\n",
       "    }\n",
       "\n",
       "    .dataframe thead th {\n",
       "        text-align: right;\n",
       "    }\n",
       "</style>\n",
       "<table border=\"1\" class=\"dataframe\">\n",
       "  <thead>\n",
       "    <tr style=\"text-align: right;\">\n",
       "      <th></th>\n",
       "      <th>Survived</th>\n",
       "      <th>Age</th>\n",
       "      <th>Fare</th>\n",
       "    </tr>\n",
       "  </thead>\n",
       "  <tbody>\n",
       "    <tr>\n",
       "      <th>0</th>\n",
       "      <td>0</td>\n",
       "      <td>22.0</td>\n",
       "      <td>7.2500</td>\n",
       "    </tr>\n",
       "    <tr>\n",
       "      <th>1</th>\n",
       "      <td>1</td>\n",
       "      <td>38.0</td>\n",
       "      <td>71.2833</td>\n",
       "    </tr>\n",
       "    <tr>\n",
       "      <th>2</th>\n",
       "      <td>1</td>\n",
       "      <td>26.0</td>\n",
       "      <td>7.9250</td>\n",
       "    </tr>\n",
       "    <tr>\n",
       "      <th>3</th>\n",
       "      <td>1</td>\n",
       "      <td>35.0</td>\n",
       "      <td>53.1000</td>\n",
       "    </tr>\n",
       "    <tr>\n",
       "      <th>4</th>\n",
       "      <td>0</td>\n",
       "      <td>35.0</td>\n",
       "      <td>8.0500</td>\n",
       "    </tr>\n",
       "  </tbody>\n",
       "</table>\n",
       "</div>"
      ],
      "text/plain": [
       "   Survived   Age     Fare\n",
       "0         0  22.0   7.2500\n",
       "1         1  38.0  71.2833\n",
       "2         1  26.0   7.9250\n",
       "3         1  35.0  53.1000\n",
       "4         0  35.0   8.0500"
      ]
     },
     "execution_count": 63,
     "metadata": {},
     "output_type": "execute_result"
    }
   ],
   "source": [
    "df.head()"
   ]
  },
  {
   "cell_type": "code",
   "execution_count": 64,
   "id": "d33653b7",
   "metadata": {},
   "outputs": [
    {
     "data": {
      "text/html": [
       "<div>\n",
       "<style scoped>\n",
       "    .dataframe tbody tr th:only-of-type {\n",
       "        vertical-align: middle;\n",
       "    }\n",
       "\n",
       "    .dataframe tbody tr th {\n",
       "        vertical-align: top;\n",
       "    }\n",
       "\n",
       "    .dataframe thead th {\n",
       "        text-align: right;\n",
       "    }\n",
       "</style>\n",
       "<table border=\"1\" class=\"dataframe\">\n",
       "  <thead>\n",
       "    <tr style=\"text-align: right;\">\n",
       "      <th></th>\n",
       "      <th>Survived</th>\n",
       "      <th>Age</th>\n",
       "      <th>Fare</th>\n",
       "    </tr>\n",
       "  </thead>\n",
       "  <tbody>\n",
       "    <tr>\n",
       "      <th>0</th>\n",
       "      <td>0</td>\n",
       "      <td>22.0</td>\n",
       "      <td>7.2500</td>\n",
       "    </tr>\n",
       "    <tr>\n",
       "      <th>1</th>\n",
       "      <td>1</td>\n",
       "      <td>38.0</td>\n",
       "      <td>71.2833</td>\n",
       "    </tr>\n",
       "    <tr>\n",
       "      <th>2</th>\n",
       "      <td>1</td>\n",
       "      <td>26.0</td>\n",
       "      <td>7.9250</td>\n",
       "    </tr>\n",
       "    <tr>\n",
       "      <th>3</th>\n",
       "      <td>1</td>\n",
       "      <td>35.0</td>\n",
       "      <td>53.1000</td>\n",
       "    </tr>\n",
       "    <tr>\n",
       "      <th>4</th>\n",
       "      <td>0</td>\n",
       "      <td>35.0</td>\n",
       "      <td>8.0500</td>\n",
       "    </tr>\n",
       "  </tbody>\n",
       "</table>\n",
       "</div>"
      ],
      "text/plain": [
       "   Survived   Age     Fare\n",
       "0         0  22.0   7.2500\n",
       "1         1  38.0  71.2833\n",
       "2         1  26.0   7.9250\n",
       "3         1  35.0  53.1000\n",
       "4         0  35.0   8.0500"
      ]
     },
     "execution_count": 64,
     "metadata": {},
     "output_type": "execute_result"
    }
   ],
   "source": [
    "df['Age'].fillna(df.Age.median(), inplace = True)\n",
    "df.head()"
   ]
  },
  {
   "cell_type": "code",
   "execution_count": 65,
   "id": "fec81cb0",
   "metadata": {},
   "outputs": [
    {
     "data": {
      "text/plain": [
       "Survived    0\n",
       "Age         0\n",
       "Fare        0\n",
       "dtype: int64"
      ]
     },
     "execution_count": 65,
     "metadata": {},
     "output_type": "execute_result"
    }
   ],
   "source": [
    "df.isnull().sum()"
   ]
  },
  {
   "cell_type": "code",
   "execution_count": 49,
   "id": "2ee64814",
   "metadata": {},
   "outputs": [],
   "source": [
    "##If you want to check if feature is Gaussian or Normal Distributed, we use QQ Plot"
   ]
  },
  {
   "cell_type": "code",
   "execution_count": 66,
   "id": "1f689fd6",
   "metadata": {},
   "outputs": [],
   "source": [
    "import scipy.stats as stat\n",
    "import pylab"
   ]
  },
  {
   "cell_type": "code",
   "execution_count": 69,
   "id": "8d2b3c4d",
   "metadata": {},
   "outputs": [],
   "source": [
    "###QQ Plot\n",
    "def plot_data(df,feature):\n",
    "    plt.figure(figsize=(10,6))\n",
    "    plt.subplot(1,2,1)\n",
    "    df[feature].hist()\n",
    "    plt.subplot(1,2,2)\n",
    "    stat.probplot(df[feature],dist='norm',plot=pylab)\n",
    "    plt.show()"
   ]
  },
  {
   "cell_type": "code",
   "execution_count": 68,
   "id": "7acf9a22",
   "metadata": {},
   "outputs": [
    {
     "data": {
      "image/png": "[encoded data removed]",
      "text/plain": [
       "<Figure size 720x432 with 2 Axes>"
      ]
     },
     "metadata": {
      "needs_background": "light"
     },
     "output_type": "display_data"
    }
   ],
   "source": [
    "plot_data(df,'Age')"
   ]
  },
  {
   "cell_type": "code",
   "execution_count": 70,
   "id": "9b33a3d3",
   "metadata": {},
   "outputs": [
    {
     "data": {
      "image/png": "[encoded data removed]",
      "text/plain": [
       "<Figure size 720x432 with 2 Axes>"
      ]
     },
     "metadata": {
      "needs_background": "light"
     },
     "output_type": "display_data"
    }
   ],
   "source": [
    "plot_data(df, 'Fare')"
   ]
  },
  {
   "cell_type": "markdown",
   "id": "1e1310a0",
   "metadata": {},
   "source": [
    "# A. Logarithmic Transformation"
   ]
  },
  {
   "cell_type": "code",
   "execution_count": 71,
   "id": "a6a4329d",
   "metadata": {},
   "outputs": [],
   "source": [
    "import numpy as np"
   ]
  },
  {
   "cell_type": "code",
   "execution_count": 72,
   "id": "60d3e0c6",
   "metadata": {},
   "outputs": [
    {
     "data": {
      "image/png": "[encoded data removed]",
      "text/plain": [
       "<Figure size 720x432 with 2 Axes>"
      ]
     },
     "metadata": {
      "needs_background": "light"
     },
     "output_type": "display_data"
    }
   ],
   "source": [
    "df['Age_log'] = np.log(df['Age'])\n",
    "plot_data(df, 'Age_log')"
   ]
  },
  {
   "cell_type": "markdown",
   "id": "4a93b2a8",
   "metadata": {},
   "source": [
    "# B. Reciprocal Transformation"
   ]
  },
  {
   "cell_type": "code",
   "execution_count": 73,
   "id": "5153cf3c",
   "metadata": {},
   "outputs": [
    {
     "data": {
      "image/png": "[encoded data removed]",
      "text/plain": [
       "<Figure size 720x432 with 2 Axes>"
      ]
     },
     "metadata": {
      "needs_background": "light"
     },
     "output_type": "display_data"
    }
   ],
   "source": [
    "df['Age_reciprocal'] = np.reciprocal(df['Age'])\n",
    "plot_data(df, 'Age_reciprocal')"
   ]
  },
  {
   "cell_type": "markdown",
   "id": "ca8ebdab",
   "metadata": {},
   "source": [
    "# C. Square Root Transformation"
   ]
  },
  {
   "cell_type": "code",
   "execution_count": 77,
   "id": "c1dc8fdf",
   "metadata": {},
   "outputs": [
    {
     "data": {
      "image/png": "[encoded data removed]",
      "text/plain": [
       "<Figure size 720x432 with 2 Axes>"
      ]
     },
     "metadata": {
      "needs_background": "light"
     },
     "output_type": "display_data"
    }
   ],
   "source": [
    "df['Age_square'] = df['Age'] ** 0.5\n",
    "plot_data(df, 'Age_square')"
   ]
  },
  {
   "cell_type": "markdown",
   "id": "46398db1",
   "metadata": {},
   "source": [
    "# D. Exponential Transformation"
   ]
  },
  {
   "cell_type": "code",
   "execution_count": 78,
   "id": "382e6caf",
   "metadata": {},
   "outputs": [
    {
     "data": {
      "image/png": "[encoded data removed]",
      "text/plain": [
       "<Figure size 720x432 with 2 Axes>"
      ]
     },
     "metadata": {
      "needs_background": "light"
     },
     "output_type": "display_data"
    }
   ],
   "source": [
    "df['Age_exponential'] = df['Age']**(1/1.2)\n",
    "plot_data(df, 'Age_exponential')"
   ]
  },
  {
   "cell_type": "markdown",
   "id": "57adee00",
   "metadata": {},
   "source": [
    "# E. Box Cox Transformation"
   ]
  },
  {
   "cell_type": "code",
   "execution_count": 79,
   "id": "7ef0ebd7",
   "metadata": {},
   "outputs": [
    {
     "data": {
      "text/plain": [
       "(array([13.468119  , 21.4987284 , 15.56341683, 20.05611014, 20.05611014,\n",
       "        16.58601436, 28.84746463,  0.92513402, 16.07664335,  9.01695462,\n",
       "         2.53193075, 30.6104327 , 12.39181078, 21.97437834,  9.01695462,\n",
       "        29.29062758,  0.92513402, 16.58601436, 18.09258499, 16.58601436,\n",
       "        20.05611014, 19.56971919,  9.59722218, 16.58601436,  5.32265694,\n",
       "        21.4987284 , 16.58601436, 11.84551333, 16.58601436, 16.58601436,\n",
       "        22.44755196, 16.58601436, 16.58601436, 34.06447944, 16.58601436,\n",
       "        23.38676361, 16.58601436, 12.93257404, 11.29332892,  9.01695462,\n",
       "        22.44755196, 16.07664335, 16.58601436,  1.75636071, 11.84551333,\n",
       "        16.58601436, 16.58601436, 16.58601436, 16.58601436, 11.29332892,\n",
       "         4.65897047, 12.93257404, 26.60575762, 17.09169505, 33.6375945 ,\n",
       "        16.58601436, 12.93257404, 16.83930618,  3.26857952,  7.221786  ,\n",
       "        13.468119  , 21.4987284 , 24.77874367,  2.53193075, 16.58601436,\n",
       "        16.58601436, 17.09169505, 11.84551333, 10.7348613 , 15.56341683,\n",
       "        18.5880672 , 10.16966246, 12.93257404, 15.56341683, 18.5880672 ,\n",
       "        15.04615552, 16.58601436, 16.58601436, -0.17316296, 17.59383809,\n",
       "        13.468119  , 17.09169505, 16.58601436, 16.58601436, 10.7348613 ,\n",
       "        19.08040717, 10.16966246, 16.58601436, 13.99873002, 14.5246643 ,\n",
       "        17.09169505, 12.39181078, 25.23849092, 15.56341683, 31.04725247,\n",
       "        16.58601436, 36.17964611, 13.99873002, 19.56971919, 19.56971919,\n",
       "        16.58601436, 16.58601436, 12.93257404, 19.08040717, 21.02052347,\n",
       "        16.58601436, 12.93257404, 16.58601436, 21.4987284 , 16.58601436,\n",
       "        25.69620814,  9.30810682, 13.468119  , 12.39181078, 10.7348613 ,\n",
       "        12.93257404, 35.96952764, 17.09169505, 14.5246643 ,  0.92513402,\n",
       "        12.93257404, 16.58601436, 18.83462264, 18.83462264, 28.84746463,\n",
       "         7.83010563, 16.58601436, 14.5246643 , 16.58601436, 24.77874367,\n",
       "        19.08040717, 12.39181078, 25.69620814, 17.09169505, 15.04615552,\n",
       "        13.99873002, 11.84551333, 21.02052347, 10.16966246, 14.5246643 ,\n",
       "        16.58601436, 13.468119  , 14.5246643 , 11.84551333, 11.29332892,\n",
       "        11.84551333, 16.07664335,  5.96962245, 20.78043704, 23.38676361,\n",
       "        27.50777955, 13.468119  , 29.5115929 , 22.68323354, 16.58601436,\n",
       "        27.50777955, 10.16966246, 17.59383809, 16.58601436, 16.58601436,\n",
       "        24.31691197, 22.44755196, 15.56341683, 10.7348613 ,  0.        ,\n",
       "         5.96962245, 16.58601436, 24.77874367, 16.58601436, 16.58601436,\n",
       "        31.91640866,  2.53193075,  0.        , 12.93257404, 29.73215339,\n",
       "        11.29332892, 16.58601436, 27.05768667, 17.59383809, 20.53968021,\n",
       "        16.58601436, 16.58601436,  5.96962245,  0.        ,  2.53193075,\n",
       "        16.58601436, 16.58601436, 24.77874367, 22.44755196, 20.53968021,\n",
       "        18.5880672 , 11.84551333, 11.84551333,  1.75636071, 24.31691197,\n",
       "        30.6104327 , 16.58601436, 23.38676361, 16.58601436, 14.5246643 ,\n",
       "        16.58601436, 16.58601436, 19.56971919, 25.00887439, 11.29332892,\n",
       "         0.92513402, 18.5880672 , 15.56341683, 10.16966246, 22.44755196,\n",
       "        14.5246643 , 20.05611014, 13.468119  , 17.59383809, 16.58601436,\n",
       "        18.09258499, 16.07664335, 23.38676361, 18.5880672 , 17.59383809,\n",
       "        10.16966246, 16.07664335, 27.50777955, 16.58601436, 21.4987284 ,\n",
       "        13.468119  , 11.84551333, 12.66286364, 11.29332892, 16.58601436,\n",
       "        20.05611014, 17.09169505, 31.04725247,  3.26857952, 14.5246643 ,\n",
       "        16.58601436, 24.31691197,  5.32265694, 11.84551333, 19.08040717,\n",
       "        16.58601436, 16.58601436, 17.09169505, 13.468119  , 17.59383809,\n",
       "        24.31691197, 15.04615552, 14.5246643 , 21.02052347, 28.84746463,\n",
       "        16.58601436, 17.09169505, 32.34880427, 17.59383809, 22.9183236 ,\n",
       "        17.09169505, 16.58601436, 17.59383809, 20.05611014, 27.05768667,\n",
       "        16.58601436,  1.75636071, 27.9560795 , 22.44755196, 16.58601436,\n",
       "        20.53968021, 10.16966246, 15.04615552, 30.6104327 , 20.05611014,\n",
       "        16.58601436, 15.04615552, 22.9183236 , 21.02052347, 16.58601436,\n",
       "        32.77978258, 24.77874367, 16.58601436,  4.65897047, 20.05611014,\n",
       "        33.6375945 , 16.58601436, 10.16966246, 11.84551333, 16.58601436,\n",
       "        19.08040717, 17.59383809, 13.468119  , 23.38676361, 13.468119  ,\n",
       "        15.56341683, 11.84551333, 20.53968021, 14.5246643 , 14.5246643 ,\n",
       "        16.58601436, 14.26226663,  0.92513402, 16.58601436, 27.05768667,\n",
       "        16.58601436, 16.58601436, 11.84551333, 16.58601436, 16.58601436,\n",
       "        -0.08067323, 16.58601436, 10.7348613 , 17.59383809, 17.59383809,\n",
       "        14.5246643 , 11.29332892, 15.56341683, 16.58601436, 23.85293864,\n",
       "        15.56341683, 14.5246643 , 28.84746463, 18.09258499, 22.44755196,\n",
       "        13.468119  , 16.07664335, 17.59383809, 13.468119  , 16.58601436,\n",
       "        20.53968021, 31.91640866, 20.53968021, 18.09258499, 10.16966246,\n",
       "        16.58601436, 25.00887439, 21.4987284 , 10.16966246, 16.58601436,\n",
       "        16.58601436, 17.09169505, 22.9183236 , 24.77874367, 24.77874367,\n",
       "         0.92513402, 14.5246643 , 16.58601436, 15.04615552, 20.53968021,\n",
       "        14.5246643 , 22.44755196, 16.58601436,  1.75636071, 23.38676361,\n",
       "        13.99873002, 16.58601436,  9.59722218, 15.04615552, 16.58601436,\n",
       "        16.58601436, 13.468119  , 21.4987284 , 16.58601436, 16.58601436,\n",
       "        22.44755196, 17.09169505, 24.77874367, 20.05611014, 16.58601436,\n",
       "        17.59383809, 31.48256774, 16.58601436, 16.58601436, 14.5246643 ,\n",
       "        15.04615552, 11.29332892, 11.84551333, 13.468119  ,  1.75636071,\n",
       "        16.58601436, 13.468119  , 16.07664335, 12.39181078, 11.84551333,\n",
       "        23.38676361,  0.        , 18.5880672 , 20.05611014, 16.58601436,\n",
       "        11.29332892,  0.        , 20.53968021, 16.58601436, 10.7348613 ,\n",
       "        20.53968021, 12.93257404, 16.58601436, 13.99873002, 14.5246643 ,\n",
       "        13.468119  , 18.09258499, 25.23849092, 13.99873002, 16.58601436,\n",
       "        21.97437834, 15.56341683, 12.93257404, 16.58601436, 12.39181078,\n",
       "        19.56971919, 27.50777955,  1.75636071, 12.93257404, 16.58601436,\n",
       "        16.58601436, 16.58601436, 19.08040717, 16.58601436, 24.31691197,\n",
       "        16.58601436, 19.56971919, 11.29332892, 17.59383809,  6.6020876 ,\n",
       "        16.58601436, 12.93257404, 17.09169505, 16.58601436, 11.29332892,\n",
       "        16.58601436, 16.58601436, 11.84551333, 16.58601436, 18.5880672 ,\n",
       "        16.58601436, 16.58601436, 23.38676361, 10.7348613 , 27.05768667,\n",
       "         9.01695462, 12.93257404, 14.5246643 , 33.20937062, 18.09258499,\n",
       "        24.77874367, 12.39181078, 15.04615552, 16.58601436, 16.58601436,\n",
       "         2.53193075,  8.42818085, 19.56971919,  3.26857952, 27.9560795 ,\n",
       "        20.53968021, 16.58601436, 17.59383809, 26.60575762, 16.58601436,\n",
       "        17.09169505, 33.6375945 , 16.58601436, 27.05768667, 16.58601436,\n",
       "        26.15194721, 19.56971919, 25.69620814, 26.15194721, 16.58601436,\n",
       "        21.4987284 , 16.58601436, 29.73215339, 16.58601436, -0.25710377,\n",
       "        16.58601436, 21.4987284 , 19.08040717, 13.99873002, 13.468119  ,\n",
       "        16.58601436, 19.56971919, 17.09169505, 13.468119  ,  0.92513402,\n",
       "         5.96962245, 16.58601436, 27.05768667, 32.77978258, 15.04615552,\n",
       "        16.58601436, 20.05611014, 30.6104327 , 17.59383809,  5.96962245,\n",
       "        16.58601436, 12.93257404, 29.29062758, 36.17964611, 12.93257404,\n",
       "        16.58601436, 28.84746463, 16.58601436, 15.04615552, 14.5246643 ,\n",
       "        10.7348613 , 12.93257404, 16.58601436, 21.02052347, 10.16966246,\n",
       "        11.29332892, 19.08040717, 16.58601436, 16.58601436, 15.56341683,\n",
       "        17.09169505, 16.58601436, 20.53968021, 28.84746463, 14.5246643 ,\n",
       "        25.69620814, 19.56971919, 16.58601436, 20.53968021, 18.5880672 ,\n",
       "        17.59383809, 13.468119  , 16.58601436, 24.31691197, 16.58601436,\n",
       "        22.68323354, 27.05768667, 16.58601436, 21.97437834, 13.99873002,\n",
       "         0.92513402, 16.58601436, 10.7348613 , 16.58601436, 17.59383809,\n",
       "         4.65897047, 24.77874367, 17.59383809, 16.58601436, 13.468119  ,\n",
       "        20.53968021,  5.96962245,  7.221786  , 18.5880672 , 27.05768667,\n",
       "        33.20937062, 11.84551333, 16.58601436, 19.08040717,  5.32265694,\n",
       "        10.7348613 , 16.07664335, 16.58601436, 13.468119  , 13.468119  ,\n",
       "        32.34880427, 26.15194721, 16.58601436, 21.97437834, 20.53968021,\n",
       "        16.58601436, 22.44755196, 16.58601436, 16.58601436, 16.58601436,\n",
       "        14.5246643 , 11.84551333, 17.09169505, 16.58601436, 18.5880672 ,\n",
       "        32.34880427, 28.40262796, 20.53968021, 16.58601436, 10.16966246,\n",
       "        11.84551333, 19.56971919, 21.97437834, 16.58601436, 18.5880672 ,\n",
       "        15.04615552, 21.97437834, 28.84746463, 20.53968021, 16.58601436,\n",
       "        11.29332892, 25.69620814, 31.48256774, 13.468119  , 16.58601436,\n",
       "        20.05611014, 27.9560795 , 25.69620814, 16.58601436, 21.02052347,\n",
       "        20.53968021, 16.58601436, 26.60575762, 16.58601436, 26.60575762,\n",
       "        14.5246643 , 16.58601436, 16.58601436, 24.31691197, 20.05611014,\n",
       "        20.53968021, 17.59383809, 16.07664335, 13.468119  , 22.44755196,\n",
       "        21.97437834, 16.58601436, 16.58601436, 16.58601436, 20.05611014,\n",
       "        14.5246643 , 19.56971919, 15.56341683,  2.53193075, 15.56341683,\n",
       "        16.07664335, 23.38676361, 12.39181078, 12.93257404, 12.93257404,\n",
       "        31.91640866, 30.17207717, 12.93257404, 15.56341683, 16.58601436,\n",
       "        39.91262372, 27.50777955, 18.5880672 , 16.58601436,  5.96962245,\n",
       "        16.58601436, 18.5880672 , 18.09258499, 22.9183236 , 16.58601436,\n",
       "        12.39181078, 14.5246643 ,  0.92513402, 16.58601436, -0.25710377,\n",
       "        26.15194721, 11.84551333, 29.73215339, 16.58601436, 13.99873002,\n",
       "        16.58601436, 11.29332892, 12.93257404, 16.58601436, 11.29332892,\n",
       "        14.5246643 , 16.58601436, 18.5880672 , 13.99873002, 30.6104327 ,\n",
       "        27.05768667, 22.44755196, 25.69620814, 20.53968021, 12.39181078,\n",
       "        18.5880672 , 15.04615552, 16.58601436, 23.85293864, 16.58601436,\n",
       "        22.44755196, 18.09258499, 35.75910562, 18.09258499, 16.58601436,\n",
       "        11.29332892, 14.78595152, 11.29332892, 23.85293864, 20.53968021,\n",
       "        16.58601436, 16.07664335, 12.39181078,  9.01695462, 31.48256774,\n",
       "        15.04615552,  9.01695462, 11.84551333, 11.29332892,  9.59722218,\n",
       "        18.09258499,  2.53193075, 16.58601436, 15.04615552, 31.48256774,\n",
       "        27.9560795 , 24.31691197, 16.58601436, 26.60575762, 23.38676361,\n",
       "        11.29332892, 20.05611014, 11.29332892, 15.04615552, 15.56341683,\n",
       "        21.97437834, 24.77874367, 23.38676361, 13.468119  , 16.58601436,\n",
       "        14.5246643 , 16.58601436, 26.15194721, 17.09169505, 27.9560795 ,\n",
       "        11.84551333, 21.4987284 , 16.07664335, 16.58601436, 19.08040717,\n",
       "         3.9756268 , 10.7348613 , 19.56971919, 27.05768667, 16.07664335,\n",
       "        12.39181078, 17.59383809, 16.58601436, 15.04615552, 15.04615552,\n",
       "        17.09169505,  7.221786  , 16.58601436, 13.99873002, 13.99873002,\n",
       "        16.83930618, 26.15194721, 20.05611014, 16.58601436, 16.58601436,\n",
       "        16.58601436, 20.53968021, 12.93257404, 14.5246643 , 18.09258499,\n",
       "        35.75910562, 10.16966246, 17.59383809, 11.84551333, 18.09258499,\n",
       "         2.53193075,  3.9756268 , 19.08040717, 13.99873002, 26.15194721,\n",
       "        -0.34289092, 16.58601436, 11.29332892, 19.56971919, 19.08040717,\n",
       "        16.58601436, 22.9183236 , 12.39181078, 20.53968021, 10.16966246,\n",
       "        27.50777955, 16.58601436, 17.84362762, 16.58601436, 18.5880672 ,\n",
       "        14.5246643 , 26.15194721, 30.17207717, 16.58601436, 28.84746463,\n",
       "        11.29332892, 16.58601436,  3.26857952, 16.58601436, 23.85293864,\n",
       "         8.42818085, 10.7348613 , 17.09169505, 16.58601436, 15.04615552,\n",
       "        15.04615552, 11.29332892,  5.32265694,  0.        , 25.23849092,\n",
       "        16.58601436, 10.16966246, 16.58601436, 16.58601436, 15.04615552,\n",
       "        21.97437834, 26.60575762, 18.09258499, 17.59383809, 17.59383809,\n",
       "        19.56971919, 18.09258499,  7.221786  , -0.62638581, 16.07664335,\n",
       "        18.09258499, 21.97437834, 11.29332892, 21.97437834, 19.08040717,\n",
       "        15.56341683, 21.97437834, 20.05611014,  3.9756268 , 17.84362762,\n",
       "        16.58601436, 13.99873002, 18.09258499, 23.85293864,  6.6020876 ,\n",
       "        27.9560795 , 16.07664335, 21.4987284 , 16.07664335,  0.92513402,\n",
       "        16.58601436, 16.58601436,  0.        , 16.58601436, 32.34880427,\n",
       "         9.59722218, -0.17316296, 16.58601436, 13.99873002, 11.29332892,\n",
       "        21.97437834, 12.93257404, 16.58601436, 18.5880672 , 16.58601436,\n",
       "        12.39181078, 10.16966246, 17.59383809, 19.81327339, 10.7348613 ,\n",
       "        23.38676361, 16.58601436, 20.05611014, 16.58601436, 16.58601436,\n",
       "         2.53193075, 37.43412368,  5.96962245, 10.16966246, 24.31691197,\n",
       "        11.29332892, 24.77874367, 27.50777955, 14.5246643 , 16.58601436,\n",
       "        22.9183236 , 12.93257404, 26.15194721, 16.58601436, 14.5246643 ,\n",
       "        23.38676361, 16.07664335, 18.09258499, 16.58601436,  2.53193075,\n",
       "        15.56341683, 25.69620814, 19.08040717, 25.69620814, 16.58601436,\n",
       "         9.59722218, 12.39181078, 11.84551333, 16.58601436, 29.73215339,\n",
       "        15.04615552, 19.08040717, 13.468119  , 16.58601436, 15.04615552,\n",
       "        21.97437834, 16.07664335, 11.84551333, 16.58601436, 15.56341683,\n",
       "        18.5880672 ]),\n",
       " 0.7964531473656952)"
      ]
     },
     "execution_count": 79,
     "metadata": {},
     "output_type": "execute_result"
    }
   ],
   "source": [
    "stat.boxcox(df['Age'])"
   ]
  },
  {
   "cell_type": "code",
   "execution_count": 80,
   "id": "ee9d2b58",
   "metadata": {},
   "outputs": [],
   "source": [
    "df['Age_boxcox'], parameters = stat.boxcox(df['Age'])"
   ]
  },
  {
   "cell_type": "code",
   "execution_count": 81,
   "id": "43d52c99",
   "metadata": {},
   "outputs": [
    {
     "data": {
      "text/plain": [
       "0.7964531473656952"
      ]
     },
     "execution_count": 81,
     "metadata": {},
     "output_type": "execute_result"
    }
   ],
   "source": [
    "parameters"
   ]
  },
  {
   "cell_type": "code",
   "execution_count": 82,
   "id": "cf4fa19e",
   "metadata": {},
   "outputs": [
    {
     "data": {
      "image/png": "[encoded data removed]",
      "text/plain": [
       "<Figure size 720x432 with 2 Axes>"
      ]
     },
     "metadata": {
      "needs_background": "light"
     },
     "output_type": "display_data"
    }
   ],
   "source": [
    "plot_data(df, 'Age_boxcox')"
   ]
  },
  {
   "cell_type": "markdown",
   "id": "a5f2e0d6",
   "metadata": {},
   "source": [
    "The Box-Cox transformation is defined as:\n",
    "\n",
    "T(Y)=(Y exp(λ)−1)/λ\n",
    "\n",
    "where Y is the response variable and λ is the transformation parameter. λ varies from -5 to 5.\n",
    "In the transformation, all values of λ are considered and the optimal value for a given variable is selected."
   ]
  },
  {
   "cell_type": "code",
   "execution_count": 88,
   "id": "df923dd3",
   "metadata": {},
   "outputs": [],
   "source": [
    "df['Fare'] = np.where(df['Fare']==0, 1, df['Fare'])"
   ]
  },
  {
   "cell_type": "code",
   "execution_count": 89,
   "id": "ab3eaa02",
   "metadata": {},
   "outputs": [
    {
     "data": {
      "image/png": "[encoded data removed]",
      "text/plain": [
       "<Figure size 720x432 with 2 Axes>"
      ]
     },
     "metadata": {
      "needs_background": "light"
     },
     "output_type": "display_data"
    }
   ],
   "source": [
    "df['Fare_log'] = np.log(df['Fare'])\n",
    "plot_data(df, 'Fare_log')"
   ]
  },
  {
   "cell_type": "code",
   "execution_count": null,
   "id": "57eee413",
   "metadata": {},
   "outputs": [],
   "source": []
  }
 ],
 "metadata": {
  "kernelspec": {
   "display_name": "Python 3",
   "language": "python",
   "name": "python3"
  },
  "language_info": {
   "codemirror_mode": {
    "name": "ipython",
    "version": 3
   },
   "file_extension": ".py",
   "mimetype": "text/x-python",
   "name": "python",
   "nbconvert_exporter": "python",
   "pygments_lexer": "ipython3",
   "version": "3.8.10"
  }
 },
 "nbformat": 4,
 "nbformat_minor": 5
}
